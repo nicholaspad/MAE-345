{
 "cells": [
  {
   "cell_type": "code",
   "execution_count": 1,
   "id": "ff8d8a53",
   "metadata": {},
   "outputs": [],
   "source": [
    "import sympy as sp\n",
    "import numpy as np\n",
    "import scipy\n",
    "from scipy.linalg import solve_continuous_are, inv\n",
    "from sympy.physics.vector import dynamicsymbols as dynamicsymbols"
   ]
  },
  {
   "cell_type": "markdown",
   "id": "215d4ddf",
   "metadata": {},
   "source": [
    "## Question 1b"
   ]
  },
  {
   "cell_type": "code",
   "execution_count": 2,
   "id": "c3810c66",
   "metadata": {},
   "outputs": [],
   "source": [
    "m1, I0, L0, g, l1, J1, t = sp.symbols('m1 I0 L0 g l1 J1 t') # constants\n",
    "tau = sp.symbols('tau') # control\n",
    "theta0, theta1 = dynamicsymbols('theta0 theta1')"
   ]
  },
  {
   "cell_type": "code",
   "execution_count": 3,
   "id": "05a8a932",
   "metadata": {},
   "outputs": [],
   "source": [
    "theta0_dot, theta1_dot = sp.diff(theta0, t), sp.diff(theta1, t)"
   ]
  },
  {
   "cell_type": "code",
   "execution_count": 4,
   "id": "d1a49a2c",
   "metadata": {},
   "outputs": [],
   "source": [
    "state = sp.Matrix([theta0, theta1, theta0_dot, theta1_dot])\n",
    "control = sp.Matrix([tau])"
   ]
  },
  {
   "cell_type": "code",
   "execution_count": 5,
   "id": "fea6d681",
   "metadata": {},
   "outputs": [],
   "source": [
    "q = sp.Matrix([theta0, theta1])\n",
    "q_dot = sp.diff(q, t)\n",
    "q_2dot = sp.diff(q_dot, t)"
   ]
  },
  {
   "cell_type": "code",
   "execution_count": 6,
   "id": "415a0e28",
   "metadata": {},
   "outputs": [],
   "source": [
    "c11 = 0.5 * m1 * l1**2 * theta1_dot * sp.sin(2 * theta1)\n",
    "c12 = -m1 * l1 * L0 * theta1_dot * sp.sin(theta1) + 0.5 * m1 * l1**2 * theta0_dot * sp.sin(2 * theta1)\n",
    "c21 = -0.5 * m1 * l1**2 * theta0_dot * sp.sin(2 * theta1)\n",
    "c22 = 0"
   ]
  },
  {
   "cell_type": "code",
   "execution_count": 7,
   "id": "ff1e6bf8",
   "metadata": {},
   "outputs": [],
   "source": [
    "C = sp.Matrix([[c11, c12], [c21, c22]])"
   ]
  },
  {
   "cell_type": "code",
   "execution_count": 8,
   "id": "666ef4e5",
   "metadata": {},
   "outputs": [],
   "source": [
    "m11 = I0 + m1 * (L0**2 + l1**2 * sp.sin(theta1) ** 2)\n",
    "m12 = m1 * l1 * L0 * sp.cos(theta1)\n",
    "m21 = m1 * l1 * L0 * sp.cos(theta1)\n",
    "m22 = J1 + m1 * l1**2"
   ]
  },
  {
   "cell_type": "code",
   "execution_count": 9,
   "id": "f017c8c9",
   "metadata": {},
   "outputs": [],
   "source": [
    "M = sp.Matrix([[m11, m12], [m21, m22]])"
   ]
  },
  {
   "cell_type": "code",
   "execution_count": 10,
   "id": "8d803d57",
   "metadata": {},
   "outputs": [],
   "source": [
    "g_q = sp.Matrix([0, -m1 * l1 * g * sp.sin(theta1)])"
   ]
  },
  {
   "cell_type": "code",
   "execution_count": 11,
   "id": "3e36adfa",
   "metadata": {},
   "outputs": [],
   "source": [
    "F = sp.Matrix([tau, 0])"
   ]
  },
  {
   "cell_type": "code",
   "execution_count": 12,
   "id": "25670aec",
   "metadata": {},
   "outputs": [
    {
     "data": {
      "text/latex": [
       "$\\displaystyle \\left[\\begin{matrix}\\frac{d}{d t} \\theta_{0}{\\left(t \\right)}\\\\\\frac{d}{d t} \\theta_{1}{\\left(t \\right)}\\\\\\frac{d^{2}}{d t^{2}} \\theta_{0}{\\left(t \\right)}\\\\\\frac{d^{2}}{d t^{2}} \\theta_{1}{\\left(t \\right)}\\end{matrix}\\right]$"
      ],
      "text/plain": [
       "Matrix([\n",
       "[     Derivative(theta0(t), t)],\n",
       "[     Derivative(theta1(t), t)],\n",
       "[Derivative(theta0(t), (t, 2))],\n",
       "[Derivative(theta1(t), (t, 2))]])"
      ]
     },
     "execution_count": 12,
     "metadata": {},
     "output_type": "execute_result"
    }
   ],
   "source": [
    "dynamics = sp.diff(state, t)\n",
    "theta0_2dot = dynamics[2]\n",
    "theta1_2dot = dynamics[3]\n",
    "dynamics"
   ]
  },
  {
   "cell_type": "code",
   "execution_count": 13,
   "id": "b4cca8b1",
   "metadata": {},
   "outputs": [
    {
     "data": {
      "text/latex": [
       "$\\displaystyle \\left[\\begin{matrix}L_{0} l_{1} m_{1} \\cos{\\left(\\theta_{1}{\\left(t \\right)} \\right)} \\frac{d^{2}}{d t^{2}} \\theta_{1}{\\left(t \\right)} + 0.5 l_{1}^{2} m_{1} \\sin{\\left(2 \\theta_{1}{\\left(t \\right)} \\right)} \\frac{d}{d t} \\theta_{0}{\\left(t \\right)} \\frac{d}{d t} \\theta_{1}{\\left(t \\right)} - \\tau + \\left(I_{0} + m_{1} \\left(L_{0}^{2} + l_{1}^{2} \\sin^{2}{\\left(\\theta_{1}{\\left(t \\right)} \\right)}\\right)\\right) \\frac{d^{2}}{d t^{2}} \\theta_{0}{\\left(t \\right)} + \\left(- L_{0} l_{1} m_{1} \\sin{\\left(\\theta_{1}{\\left(t \\right)} \\right)} \\frac{d}{d t} \\theta_{1}{\\left(t \\right)} + 0.5 l_{1}^{2} m_{1} \\sin{\\left(2 \\theta_{1}{\\left(t \\right)} \\right)} \\frac{d}{d t} \\theta_{0}{\\left(t \\right)}\\right) \\frac{d}{d t} \\theta_{1}{\\left(t \\right)}\\\\L_{0} l_{1} m_{1} \\cos{\\left(\\theta_{1}{\\left(t \\right)} \\right)} \\frac{d^{2}}{d t^{2}} \\theta_{0}{\\left(t \\right)} - g l_{1} m_{1} \\sin{\\left(\\theta_{1}{\\left(t \\right)} \\right)} - 0.5 l_{1}^{2} m_{1} \\sin{\\left(2 \\theta_{1}{\\left(t \\right)} \\right)} \\left(\\frac{d}{d t} \\theta_{0}{\\left(t \\right)}\\right)^{2} + \\left(J_{1} + l_{1}^{2} m_{1}\\right) \\frac{d^{2}}{d t^{2}} \\theta_{1}{\\left(t \\right)}\\end{matrix}\\right]$"
      ],
      "text/plain": [
       "Matrix([\n",
       "[L0*l1*m1*cos(theta1(t))*Derivative(theta1(t), (t, 2)) + 0.5*l1**2*m1*sin(2*theta1(t))*Derivative(theta0(t), t)*Derivative(theta1(t), t) - tau + (I0 + m1*(L0**2 + l1**2*sin(theta1(t))**2))*Derivative(theta0(t), (t, 2)) + (-L0*l1*m1*sin(theta1(t))*Derivative(theta1(t), t) + 0.5*l1**2*m1*sin(2*theta1(t))*Derivative(theta0(t), t))*Derivative(theta1(t), t)],\n",
       "[                                                                                                                                                                       L0*l1*m1*cos(theta1(t))*Derivative(theta0(t), (t, 2)) - g*l1*m1*sin(theta1(t)) - 0.5*l1**2*m1*sin(2*theta1(t))*Derivative(theta0(t), t)**2 + (J1 + l1**2*m1)*Derivative(theta1(t), (t, 2))]])"
      ]
     },
     "execution_count": 13,
     "metadata": {},
     "output_type": "execute_result"
    }
   ],
   "source": [
    "eq = M * q_2dot + C * q_dot + g_q - F\n",
    "eq"
   ]
  },
  {
   "cell_type": "code",
   "execution_count": 14,
   "id": "c0c82754",
   "metadata": {},
   "outputs": [],
   "source": [
    "sol = sp.solve([eq[0], eq[1]], theta0_2dot, theta1_2dot)"
   ]
  },
  {
   "cell_type": "code",
   "execution_count": 15,
   "id": "4c64c483",
   "metadata": {},
   "outputs": [],
   "source": [
    "theta0_2dot = sol[theta0_2dot]\n",
    "theta1_2dot = sol[theta1_2dot]"
   ]
  },
  {
   "cell_type": "code",
   "execution_count": 16,
   "id": "0fd9c8ce",
   "metadata": {},
   "outputs": [],
   "source": [
    "dynamics[2] = theta0_2dot\n",
    "dynamics[3] = theta1_2dot"
   ]
  },
  {
   "cell_type": "code",
   "execution_count": 17,
   "id": "1a33a4b7",
   "metadata": {},
   "outputs": [],
   "source": [
    "A = dynamics.jacobian(state)\n",
    "B = dynamics.jacobian(control)"
   ]
  },
  {
   "cell_type": "code",
   "execution_count": 18,
   "id": "b92f0092",
   "metadata": {},
   "outputs": [],
   "source": [
    "A = A.subs([\n",
    "            (g, 9.8),\n",
    "            (theta0, 0),\n",
    "            (theta1, 0),\n",
    "            (theta0_dot, 0),\n",
    "            (theta1_dot, 0),\n",
    "            (m1, 1),\n",
    "            (I0, 1),\n",
    "            (L0, 1),\n",
    "            (l1, 1),\n",
    "            (J1, 1),\n",
    "            (tau, 0),\n",
    "           ]\n",
    "          )\n",
    "A.simplify()"
   ]
  },
  {
   "cell_type": "code",
   "execution_count": 19,
   "id": "5646a570",
   "metadata": {},
   "outputs": [],
   "source": [
    "B = B.subs([\n",
    "            (g, 9.8),\n",
    "            (theta0, 0),\n",
    "            (theta1, 0),\n",
    "            (theta0_dot, 0),\n",
    "            (theta1_dot, 0),\n",
    "            (m1, 1),\n",
    "            (I0, 1),\n",
    "            (L0, 1),\n",
    "            (l1, 1),\n",
    "            (J1, 1),\n",
    "            (tau, 0),\n",
    "           ]\n",
    "          )\n",
    "B.simplify()"
   ]
  },
  {
   "cell_type": "code",
   "execution_count": 20,
   "id": "dec77cf5",
   "metadata": {},
   "outputs": [
    {
     "data": {
      "text/latex": [
       "$\\displaystyle \\left[\\begin{matrix}0 & 0 & 1 & 0\\\\0 & 0 & 0 & 1\\\\0 & -3.26666666666667 & 0 & 0\\\\0 & 6.53333333333333 & 0 & 0\\end{matrix}\\right]$"
      ],
      "text/plain": [
       "Matrix([\n",
       "[0,                 0, 1, 0],\n",
       "[0,                 0, 0, 1],\n",
       "[0, -3.26666666666667, 0, 0],\n",
       "[0,  6.53333333333333, 0, 0]])"
      ]
     },
     "execution_count": 20,
     "metadata": {},
     "output_type": "execute_result"
    }
   ],
   "source": [
    "A"
   ]
  },
  {
   "cell_type": "code",
   "execution_count": 21,
   "id": "90f5b1c6",
   "metadata": {},
   "outputs": [
    {
     "data": {
      "text/latex": [
       "$\\displaystyle \\left[\\begin{matrix}0\\\\0\\\\0.666666666666667\\\\-0.333333333333333\\end{matrix}\\right]$"
      ],
      "text/plain": [
       "Matrix([\n",
       "[                 0],\n",
       "[                 0],\n",
       "[ 0.666666666666667],\n",
       "[-0.333333333333333]])"
      ]
     },
     "execution_count": 21,
     "metadata": {},
     "output_type": "execute_result"
    }
   ],
   "source": [
    "B"
   ]
  },
  {
   "cell_type": "markdown",
   "id": "882c12c2",
   "metadata": {},
   "source": [
    "## Question 1c"
   ]
  },
  {
   "cell_type": "code",
   "execution_count": 22,
   "id": "04084177",
   "metadata": {},
   "outputs": [],
   "source": [
    "def lqr(A: np.ndarray, B: np.ndarray, Q: np.ndarray, R: np.ndarray) -> np.ndarray:\n",
    "    S = scipy.linalg.solve_continuous_are(A, B, Q, R)\n",
    "    K = -scipy.linalg.inv(R).dot(B.T).dot(S)\n",
    "    return K"
   ]
  },
  {
   "cell_type": "code",
   "execution_count": 23,
   "id": "da16e0d8",
   "metadata": {},
   "outputs": [],
   "source": [
    "A = np.array(A).astype(float)\n",
    "B = np.array(B).astype(float)"
   ]
  },
  {
   "cell_type": "code",
   "execution_count": 24,
   "id": "3f92d5e3",
   "metadata": {},
   "outputs": [],
   "source": [
    "Q = np.identity(4)\n",
    "R = np.identity(1)"
   ]
  },
  {
   "cell_type": "code",
   "execution_count": 25,
   "id": "0fd5c37d",
   "metadata": {},
   "outputs": [
    {
     "data": {
      "text/plain": [
       "array([[ 1.        , 60.26600338,  3.0494564 , 24.92963293]])"
      ]
     },
     "execution_count": 25,
     "metadata": {},
     "output_type": "execute_result"
    }
   ],
   "source": [
    "K_star = lqr(A, B, Q, R)\n",
    "K_star"
   ]
  },
  {
   "cell_type": "code",
   "execution_count": 26,
   "id": "891a0841",
   "metadata": {},
   "outputs": [],
   "source": [
    "def controller(state):\n",
    "    # u_0 = 0\n",
    "    # x_0 = 0\n",
    "    return K_star @ state"
   ]
  }
 ],
 "metadata": {
  "kernelspec": {
   "display_name": "Python 3 (ipykernel)",
   "language": "python",
   "name": "python3"
  },
  "language_info": {
   "codemirror_mode": {
    "name": "ipython",
    "version": 3
   },
   "file_extension": ".py",
   "mimetype": "text/x-python",
   "name": "python",
   "nbconvert_exporter": "python",
   "pygments_lexer": "ipython3",
   "version": "3.8.13"
  }
 },
 "nbformat": 4,
 "nbformat_minor": 5
}
