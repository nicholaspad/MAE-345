{
 "cells": [
  {
   "cell_type": "markdown",
   "metadata": {},
   "source": [
    "# Lab 6: Particle Filter\n",
    "\n",
    "## Implementation (25 Pts)\n",
    "\n",
    "In this lab, you will implement a particle filter for performing state estimation. Consider a system whose state is given by $\\bar{x} = [x,y]$, where $x$ is the x-position of our system and $y$ is the y-position. Assume that we have a perfect model of the dynamics of the system:\n",
    "$$x_{t+1} = x_t + 0.1 x_t,$$\n",
    "$$y_{t+1} = y_t - 0.2 y_t.$$\n",
    "Suppose that we have a sensor that provides an (imperfect) estimate of the distance of the state from the origin. After thorough experimentation, we have found that the following is a good model of our sensor:\n",
    "$$p(z_t | \\bar{x}_t) = \\mathcal{N}(\\|\\bar{x}_t\\|, \\sigma_\\text{meas}^2),$$\n",
    "where $\\sigma_\\text{meas}^2$ is equal to 0.2. In other words, the sensor measurement is a Gaussian random variable with mean equal to the distance $\\|\\bar{x}_t\\|$ from the origin and the standard deviation equal to $\\sigma_\\text{meas}$. \n",
    "\n",
    "Suppose further that our initial belief about the state is defined by a Gaussian distribution with mean $[0, 0]$ and covariance equal to the $2 \\times 2$ identity matrix, i.e. $\\mathcal{N}(\\bar{0}, I)$.\n",
    "\n",
    "At each point in time, the true state $\\bar{x}_t$ of the system evolves according to the dynamics given above. But, we do not have a perfect estimate of the state. Instead, we must use the sensor measurements $z_t$ we receive to estimate the state. We will use a particle filter to (approximately) maintain and update a belief over the state. Your task is to fill out the portions of the code below marked \"TODO\" to complete the particle filter implementation. First, we will  import libraries and setup the dynamics:  "
   ]
  },
  {
   "cell_type": "code",
   "execution_count": 1,
   "metadata": {},
   "outputs": [],
   "source": [
    "import numpy as np\n",
    "import matplotlib.pyplot as plt\n",
    "import matplotlib.animation as animation\n",
    "import random\n",
    "import time\n",
    "import scipy.stats as st\n",
    "from typing import List, Tuple\n",
    "from IPython.display import HTML, Image\n",
    "\n",
    "%matplotlib notebook\n",
    "\n",
    "################ Setup dynamics and sensor (Do not modify) ###########\n",
    "\n",
    "def update_state(state: np.ndarray) -> np.ndarray:\n",
    "    \"\"\"\n",
    "    Update the state using the (known) dynamics of the system.\n",
    "    \n",
    "    @param state: The current state of the system.\n",
    "    \n",
    "    @return: The updated state of the system.\n",
    "    \"\"\"\n",
    "    state[0] = state[0] + 0.1 * state[0]\n",
    "    state[1] = state[1] - 0.2 * state[1]\n",
    "    return state\n",
    "\n",
    "def get_sensor_reading(state_true: np.ndarray, sensor_std_dev: float) -> float:\n",
    "    \"\"\"\n",
    "    Obtain a sensor measurement. This function simulates the sensor that the robot has.\n",
    "    \n",
    "    @param state_true: The true state of the robot.\n",
    "    @param sensor_std_dev: The standard deviation of the sensor's noise.\n",
    "    \n",
    "    @return: A sensor measurement\n",
    "    \"\"\"\n",
    "    z = np.random.normal(np.linalg.norm(state_true), sensor_std_dev) \n",
    "    return z"
   ]
  },
  {
   "cell_type": "markdown",
   "metadata": {},
   "source": [
    "Below, you will implement the particle filter. Note that your implementation may take a few seconds to run. This is because we are storing all the particle information for the whole simulation and doing so in an inefficient manner which is convenient for plotting later. In practice, particle filters run very efficiently."
   ]
  },
  {
   "cell_type": "code",
   "execution_count": 2,
   "metadata": {},
   "outputs": [],
   "source": [
    "def particle_filter(initial_state: np.ndarray, num_particles: int, \n",
    "                    sensor_std_dev: float, init_mean: np.ndarray,\n",
    "                    init_cov: np.ndarray, horizon: int) -> Tuple[List[np.ndarray], List[np.ndarray]]:\n",
    "    \"\"\"\n",
    "    Simulate a particle filter over a time horizon.\n",
    "    \n",
    "    @param initial_state: The robot's true initial state as a 2-vector.\n",
    "    @param num_particles: The number of particles in the filter.\n",
    "    @param sensor_std_dev: The standard deviation of the sensor model's output.\n",
    "    @param init_mean: The mean of the initial distribution for the model as a 2-vector.\n",
    "    @param init_cov: The covariance of the initial distribution as a 2-by-2 matrix.\n",
    "    @param horizon: The number of steps to simulate the system for.\n",
    "    \n",
    "    @return: A 2-tuple whose first entry contains the history of the true state value of\n",
    "             the system and whose second entry contains the history of particle values\n",
    "             for the system.\n",
    "    \"\"\"\n",
    "    weights = np.zeros(num_particles)\n",
    "    state_true = initial_state.copy()\n",
    "    \n",
    "    particles = np.random.multivariate_normal(init_mean, init_cov, num_particles)\n",
    "\n",
    "    particle_history = [particles.copy()]\n",
    "    state_true_history = [state_true.copy()]\n",
    "\n",
    "    for t in range(horizon): # for each time-step t = 0,1,2,...\n",
    "\n",
    "        ######### Do not modify #############\n",
    "        # Update true state\n",
    "        state_true = update_state(state_true)\n",
    "        state_true_history.append(state_true.copy())\n",
    "\n",
    "        # Receive sensor measurement\n",
    "        z_t = get_sensor_reading(state_true, sensor_std_dev)\n",
    "        #####################################\n",
    "        \n",
    "        ####### Particle filter code ########\n",
    "        prev_particles = particle_history[-1]\n",
    "        for i in range(num_particles): # For each particle\n",
    "            prev_particle = prev_particles[i]\n",
    "            new_particle = update_state(prev_particle)\n",
    "            weights[i] = st.norm.pdf(z_t, np.linalg.norm(new_particle), sensor_std_dev)\n",
    "        \n",
    "        prev_particle_ids = np.arange(num_particles)\n",
    "        sampled_prev_particle_ids = random.choices(prev_particle_ids, weights, k=num_particles)\n",
    "        sampled_particles = prev_particles[sampled_prev_particle_ids]\n",
    "\n",
    "        particle_history.append(sampled_particles.copy())\n",
    "    \n",
    "    return state_true_history, particle_history    "
   ]
  },
  {
   "cell_type": "markdown",
   "metadata": {},
   "source": [
    "This cell actually runs the filter."
   ]
  },
  {
   "cell_type": "code",
   "execution_count": 3,
   "metadata": {},
   "outputs": [],
   "source": [
    "# Number of particles \n",
    "num_particles = 1000\n",
    "\n",
    "# Initialize particles using initial belief\n",
    "init_mean = [0.0, 0.0]\n",
    "init_cov = [[5.0, 0], [0, 5.0]]  # covariance is the identity matrix\n",
    "\n",
    "# Initialize true state\n",
    "state_true = np.array([1.0, 1.0])\n",
    "\n",
    "# Define sensor noise standard deviation\n",
    "sensor_std_dev = 0.2\n",
    "\n",
    "# Time horizon\n",
    "horizon = 15\n",
    "\n",
    "state_true_history, particle_history = particle_filter(state_true, num_particles, sensor_std_dev, init_mean, init_cov, horizon)"
   ]
  },
  {
   "cell_type": "markdown",
   "metadata": {},
   "source": [
    "Finally, this cell animates the results. If you get an error rendering the video, you may need to install FFMPEG. If the cell runs without error but the animation is not displayed, check the directory where the notebook is saved for the anim.gif file. Some browsers (including Microsoft Edge) may not properly display the animation despite the file being created and saved correctly."
   ]
  },
  {
   "cell_type": "code",
   "execution_count": 4,
   "metadata": {},
   "outputs": [
    {
     "data": {
      "text/html": [
       "<img src=\"./anim.gif\"/>"
      ],
      "text/plain": [
       "<IPython.core.display.Image object>"
      ]
     },
     "execution_count": 4,
     "metadata": {},
     "output_type": "execute_result"
    }
   ],
   "source": [
    "plt.ioff()\n",
    "fig, ax = plt.subplots()\n",
    "\n",
    "ax.set_xlim([-5, 5])\n",
    "ax.set_ylim([-5, 5])\n",
    "ax.set_aspect('equal')\n",
    "\n",
    "particle_scatter = ax.scatter([], [])\n",
    "state_scatter = ax.scatter([], [])    \n",
    "\n",
    "def animate(i):\n",
    "    particle_scatter.set_offsets(particle_history[i])\n",
    "    state_scatter.set_offsets(state_true_history[i])\n",
    "    \n",
    "# ani = animation.FuncAnimation(fig, animate, frames=len(particle_history))\n",
    "import matplotlib\n",
    "ani = matplotlib.animation.FuncAnimation(fig, animate, frames=len(particle_history))\n",
    "\n",
    "ani.save('./anim.gif', writer='pillow', fps=100)\n",
    "Image(url='./anim.gif')"
   ]
  },
  {
   "cell_type": "markdown",
   "metadata": {},
   "source": [
    "## Discussion (5 Pts)\n",
    "\n",
    "If your particle filter is implemented correctly, you should notice that the particles cluster in two locations. In the cell below, briefly explain why this behavior occurs, and how you might change the system so that the filter converges to the correct state."
   ]
  },
  {
   "cell_type": "markdown",
   "metadata": {},
   "source": [
    "### Your Answer:\n",
    "\n",
    "This behavior occurs because of both the dynamics and sensor models.\n",
    "\n",
    "By construction, particles with a positive or negative x-coordinate become even more positive or negative, respectively, at the next time step by a factor of 1.1. If a particle starts out on the left of the y-axis (i.e. negative x-coordinate), it will stay to the left and move farther and farther in the negative-x direction. Likewise, if particle starts out on the right of the y-axis (i.e. positive x-coordinate), it will stay to the right and move farther and farther in the positive-x direction. Regarding the y-coordinate, each particle's next y-coordinate will shrink by a factor of 0.8, causing them to come closer together in the y-direction. In all, these dynamics properties cause two clusters to form and move in opposite directions along the x-axis.\n",
    "\n",
    "Additionally, the way in which a sensor measurement is computed contributes to this behavior. Because we're using the distance of particles _from a single point_ as the center of the normal distribution, we're placing **equal importance** on all particles along a circle centered at the origin. For example, a particle at [1, 1] has the same importance (and hence computed weight) as a particle at [-1, -1] and [-1, 1] given some sensor measurement $z_t$. In the animation, this is why particles in the 2nd, 3rd, and 4th quadrants move in the same fashion (i.e. they have the same importance) as those in the 1st quadrant even though they should have much less importance (they are much farther away from the sensor measurement).\n",
    "\n",
    "One way to address this behavior is to change the sensor model entirely. For example, we could collect two more sensor measurements and combine their distances in a weighted fashion, as well as compute and combine the distance from two more reference points in addition to the origin. In this way, we could get a more meaningful importance/weight value for each particle so that the filter converges to the correct state."
   ]
  }
 ],
 "metadata": {
  "kernelspec": {
   "display_name": "Python 3 (ipykernel)",
   "language": "python",
   "name": "python3"
  },
  "language_info": {
   "codemirror_mode": {
    "name": "ipython",
    "version": 3
   },
   "file_extension": ".py",
   "mimetype": "text/x-python",
   "name": "python",
   "nbconvert_exporter": "python",
   "pygments_lexer": "ipython3",
   "version": "3.8.13"
  }
 },
 "nbformat": 4,
 "nbformat_minor": 2
}
